{
 "cells": [
  {
   "cell_type": "code",
   "execution_count": null,
   "metadata": {},
   "outputs": [],
   "source": [
    "%load_ext autoreload\n",
    "%autoreload 2\n",
    "\n",
    "root = r\"C:\\Users\\zwecher\\Documents\\mygit\\new_predictor\"\n",
    "#predictor_path  = r\"C:\\Users\\zwecher\\Documents\\mygit\\Indoors_Capabilities\\predictor\"\n",
    "#model_path = r\"C:\\Users\\zwecher\\Documents\\mygit\\Indoors_Capabilities\\models\"\n",
    "\n",
    "from importlib import reload  # Not needed in Python 2\n",
    "import logging\n",
    "reload(logging)\n",
    "import numpy as np\n",
    "import pandas as pd\n",
    "import matplotlib.pyplot as plt\n",
    "import tensorflow as tf\n",
    "from tensorflow.keras.models import Sequential\n",
    "from tensorflow.keras import models\n",
    "from tensorflow.keras import backend as K \n",
    "\n",
    "from tensorflow import keras\n",
    "import sys, os\n",
    "sys.path.insert(0,root)\n",
    "#from predictor import predictor, config, restore\n",
    "import utils\n",
    "from predictor import buildings_predictor as bp\n",
    "from predictor import batch_manager\n",
    "#from predictor import full_model_predictor as fmp\n",
    "utils.set_log()\n",
    "os.chdir(r\"C:\\Users\\zwecher\\Documents\\mygit\\new_predictor\\predictor\")"
   ]
  },
  {
   "cell_type": "code",
   "execution_count": null,
   "metadata": {},
   "outputs": [],
   "source": [
    "#K.clear_session()\n",
    "model = bp.get_model()"
   ]
  },
  {
   "cell_type": "code",
   "execution_count": null,
   "metadata": {},
   "outputs": [],
   "source": [
    "%matplotlib --list"
   ]
  },
  {
   "cell_type": "code",
   "execution_count": null,
   "metadata": {},
   "outputs": [],
   "source": [
    "plt.show()"
   ]
  },
  {
   "cell_type": "code",
   "execution_count": null,
   "metadata": {},
   "outputs": [],
   "source": [
    "model.get_config()"
   ]
  },
  {
   "cell_type": "code",
   "execution_count": null,
   "metadata": {},
   "outputs": [],
   "source": []
  },
  {
   "cell_type": "code",
   "execution_count": null,
   "metadata": {},
   "outputs": [],
   "source": [
    "metadata_df = batch_manager.create_metadata_df()\n",
    "bm = batch_manager.BatchManager(metadata_df,test_num=256)\n",
    "x,y = bm.get_test_batch()\n",
    "#func = utils.get_inermediate_layers_func(model,[\"dense\"])\n",
    "# for i in range(5):\n",
    "#     x,y = bm.get_next_train_batch(256)\n",
    "#     model.train_on_batch(x, y)\n",
    "#     if i%1 == 0:\n",
    "#         loss = model.evaluate(x,y)\n",
    "#         print(loss)\n",
    "#         print(func(x))"
   ]
  },
  {
   "cell_type": "code",
   "execution_count": null,
   "metadata": {},
   "outputs": [],
   "source": [
    "bp.train_model(model,3)\n",
    "model.save(r\"C:\\Users\\zwecher\\Documents\\mygit\\new_predictor\\models\\models6260\\6260_model.HDF5\")"
   ]
  },
  {
   "cell_type": "code",
   "execution_count": null,
   "metadata": {},
   "outputs": [],
   "source": [
    "q = tf.keras.models.load_model(r\"C:\\Users\\zwecher\\Documents\\mygit\\new_predictor\\models\\models6260\\6260_model.HDF5\",compile=False)\n",
    "ao = tf.keras.optimizers.Adam(learning_rate=0.001)\n",
    "loss = bp.loss\n",
    "q.compile(optimizer=ao, loss=loss)\n",
    "func = utils.get_inermediate_layers_func(q,[\"dense\"])"
   ]
  },
  {
   "cell_type": "code",
   "execution_count": null,
   "metadata": {},
   "outputs": [],
   "source": [
    "v=func(x)"
   ]
  },
  {
   "cell_type": "code",
   "execution_count": null,
   "metadata": {},
   "outputs": [],
   "source": [
    "%matplotlib notebook\n",
    "plt.subplot(131)\n",
    "plt.imshow(utils.logits_to_probs(v[0][0]).reshape(62,60))\n",
    "plt.subplot(132)\n",
    "plt.imshow(x[0].squeeze())\n",
    "plt.subplot(133)\n",
    "plt.imshow(y[0].reshape(62,60))\n"
   ]
  },
  {
   "cell_type": "code",
   "execution_count": null,
   "metadata": {},
   "outputs": [],
   "source": [
    "3+4"
   ]
  },
  {
   "cell_type": "code",
   "execution_count": null,
   "metadata": {},
   "outputs": [],
   "source": [
    "q.compile()"
   ]
  },
  {
   "cell_type": "code",
   "execution_count": null,
   "metadata": {},
   "outputs": [],
   "source": [
    "model.get_config()"
   ]
  },
  {
   "cell_type": "code",
   "execution_count": null,
   "metadata": {},
   "outputs": [],
   "source": [
    "(v[0]<0).mean()"
   ]
  },
  {
   "cell_type": "code",
   "execution_count": null,
   "metadata": {},
   "outputs": [],
   "source": [
    "%matplotlib tk\n",
    "plt.hist(v[0][0].flatten())"
   ]
  },
  {
   "cell_type": "code",
   "execution_count": null,
   "metadata": {},
   "outputs": [],
   "source": [
    "from datetime import datetime\n"
   ]
  },
  {
   "cell_type": "code",
   "execution_count": null,
   "metadata": {},
   "outputs": [],
   "source": [
    "datetime.now()-datetime(2017,2,6)"
   ]
  },
  {
   "cell_type": "code",
   "execution_count": null,
   "metadata": {},
   "outputs": [],
   "source": []
  }
 ],
 "metadata": {
  "kernelspec": {
   "display_name": "Python [conda env:keras]",
   "language": "python",
   "name": "conda-env-keras-py"
  },
  "language_info": {
   "codemirror_mode": {
    "name": "ipython",
    "version": 3
   },
   "file_extension": ".py",
   "mimetype": "text/x-python",
   "name": "python",
   "nbconvert_exporter": "python",
   "pygments_lexer": "ipython3",
   "version": "3.6.9"
  }
 },
 "nbformat": 4,
 "nbformat_minor": 2
}
