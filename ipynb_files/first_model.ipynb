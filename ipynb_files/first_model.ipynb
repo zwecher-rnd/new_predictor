{
 "cells": [
  {
   "cell_type": "code",
   "execution_count": null,
   "metadata": {},
   "outputs": [],
   "source": [
    "%load_ext autoreload\n",
    "%autoreload 2\n",
    "\n",
    "root = r\"C:\\Users\\zwecher\\Documents\\mygit\\new_predictor\"\n",
    "#predictor_path  = r\"C:\\Users\\zwecher\\Documents\\mygit\\Indoors_Capabilities\\predictor\"\n",
    "#model_path = r\"C:\\Users\\zwecher\\Documents\\mygit\\Indoors_Capabilities\\models\"\n",
    "\n",
    "from importlib import reload  # Not needed in Python 2\n",
    "import logging\n",
    "reload(logging)\n",
    "import numpy as np\n",
    "import pandas as pd\n",
    "import matplotlib.pyplot as plt\n",
    "import tensorflow as tf\n",
    "from tensorflow.keras.models import Sequential\n",
    "from tensorflow.keras import models\n",
    "from tensorflow import keras\n",
    "import sys, os\n",
    "sys.path.insert(0,root)\n",
    "#from predictor import predictor, config, restore\n",
    "import utils\n",
    "from predictor import buildings_predictor\n",
    "utils.set_log()\n",
    "os.chdir(r\"C:\\Users\\zwecher\\Documents\\mygit\\new_predictor\\predictor\")"
   ]
  },
  {
   "cell_type": "code",
   "execution_count": null,
   "metadata": {},
   "outputs": [],
   "source": [
    "model = buildings_predictor.get_model()"
   ]
  },
  {
   "cell_type": "code",
   "execution_count": null,
   "metadata": {},
   "outputs": [],
   "source": [
    "buildings_predictor.train_model(model,5)"
   ]
  },
  {
   "cell_type": "code",
   "execution_count": null,
   "metadata": {},
   "outputs": [],
   "source": [
    "a.get_weights()"
   ]
  },
  {
   "cell_type": "code",
   "execution_count": null,
   "metadata": {},
   "outputs": [],
   "source": []
  }
 ],
 "metadata": {
  "kernelspec": {
   "display_name": "Python [conda env:keras]",
   "language": "python",
   "name": "conda-env-keras-py"
  },
  "language_info": {
   "codemirror_mode": {
    "name": "ipython",
    "version": 3
   },
   "file_extension": ".py",
   "mimetype": "text/x-python",
   "name": "python",
   "nbconvert_exporter": "python",
   "pygments_lexer": "ipython3",
   "version": "3.6.9"
  }
 },
 "nbformat": 4,
 "nbformat_minor": 2
}
