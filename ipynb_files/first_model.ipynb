{
 "cells": [
  {
   "cell_type": "code",
   "execution_count": 1,
   "metadata": {},
   "outputs": [
    {
     "name": "stderr",
     "output_type": "stream",
     "text": [
      "C:\\Users\\zwecher\\AppData\\Local\\Continuum\\anaconda3\\envs\\keras\\lib\\site-packages\\tensorflow\\python\\framework\\dtypes.py:516: FutureWarning: Passing (type, 1) or '1type' as a synonym of type is deprecated; in a future version of numpy, it will be understood as (type, (1,)) / '(1,)type'.\n",
      "  _np_qint8 = np.dtype([(\"qint8\", np.int8, 1)])\n",
      "C:\\Users\\zwecher\\AppData\\Local\\Continuum\\anaconda3\\envs\\keras\\lib\\site-packages\\tensorflow\\python\\framework\\dtypes.py:517: FutureWarning: Passing (type, 1) or '1type' as a synonym of type is deprecated; in a future version of numpy, it will be understood as (type, (1,)) / '(1,)type'.\n",
      "  _np_quint8 = np.dtype([(\"quint8\", np.uint8, 1)])\n",
      "C:\\Users\\zwecher\\AppData\\Local\\Continuum\\anaconda3\\envs\\keras\\lib\\site-packages\\tensorflow\\python\\framework\\dtypes.py:518: FutureWarning: Passing (type, 1) or '1type' as a synonym of type is deprecated; in a future version of numpy, it will be understood as (type, (1,)) / '(1,)type'.\n",
      "  _np_qint16 = np.dtype([(\"qint16\", np.int16, 1)])\n",
      "C:\\Users\\zwecher\\AppData\\Local\\Continuum\\anaconda3\\envs\\keras\\lib\\site-packages\\tensorflow\\python\\framework\\dtypes.py:519: FutureWarning: Passing (type, 1) or '1type' as a synonym of type is deprecated; in a future version of numpy, it will be understood as (type, (1,)) / '(1,)type'.\n",
      "  _np_quint16 = np.dtype([(\"quint16\", np.uint16, 1)])\n",
      "C:\\Users\\zwecher\\AppData\\Local\\Continuum\\anaconda3\\envs\\keras\\lib\\site-packages\\tensorflow\\python\\framework\\dtypes.py:520: FutureWarning: Passing (type, 1) or '1type' as a synonym of type is deprecated; in a future version of numpy, it will be understood as (type, (1,)) / '(1,)type'.\n",
      "  _np_qint32 = np.dtype([(\"qint32\", np.int32, 1)])\n",
      "C:\\Users\\zwecher\\AppData\\Local\\Continuum\\anaconda3\\envs\\keras\\lib\\site-packages\\tensorflow\\python\\framework\\dtypes.py:525: FutureWarning: Passing (type, 1) or '1type' as a synonym of type is deprecated; in a future version of numpy, it will be understood as (type, (1,)) / '(1,)type'.\n",
      "  np_resource = np.dtype([(\"resource\", np.ubyte, 1)])\n",
      "C:\\Users\\zwecher\\AppData\\Local\\Continuum\\anaconda3\\envs\\keras\\lib\\site-packages\\tensorboard\\compat\\tensorflow_stub\\dtypes.py:541: FutureWarning: Passing (type, 1) or '1type' as a synonym of type is deprecated; in a future version of numpy, it will be understood as (type, (1,)) / '(1,)type'.\n",
      "  _np_qint8 = np.dtype([(\"qint8\", np.int8, 1)])\n",
      "C:\\Users\\zwecher\\AppData\\Local\\Continuum\\anaconda3\\envs\\keras\\lib\\site-packages\\tensorboard\\compat\\tensorflow_stub\\dtypes.py:542: FutureWarning: Passing (type, 1) or '1type' as a synonym of type is deprecated; in a future version of numpy, it will be understood as (type, (1,)) / '(1,)type'.\n",
      "  _np_quint8 = np.dtype([(\"quint8\", np.uint8, 1)])\n",
      "C:\\Users\\zwecher\\AppData\\Local\\Continuum\\anaconda3\\envs\\keras\\lib\\site-packages\\tensorboard\\compat\\tensorflow_stub\\dtypes.py:543: FutureWarning: Passing (type, 1) or '1type' as a synonym of type is deprecated; in a future version of numpy, it will be understood as (type, (1,)) / '(1,)type'.\n",
      "  _np_qint16 = np.dtype([(\"qint16\", np.int16, 1)])\n",
      "C:\\Users\\zwecher\\AppData\\Local\\Continuum\\anaconda3\\envs\\keras\\lib\\site-packages\\tensorboard\\compat\\tensorflow_stub\\dtypes.py:544: FutureWarning: Passing (type, 1) or '1type' as a synonym of type is deprecated; in a future version of numpy, it will be understood as (type, (1,)) / '(1,)type'.\n",
      "  _np_quint16 = np.dtype([(\"quint16\", np.uint16, 1)])\n",
      "C:\\Users\\zwecher\\AppData\\Local\\Continuum\\anaconda3\\envs\\keras\\lib\\site-packages\\tensorboard\\compat\\tensorflow_stub\\dtypes.py:545: FutureWarning: Passing (type, 1) or '1type' as a synonym of type is deprecated; in a future version of numpy, it will be understood as (type, (1,)) / '(1,)type'.\n",
      "  _np_qint32 = np.dtype([(\"qint32\", np.int32, 1)])\n",
      "C:\\Users\\zwecher\\AppData\\Local\\Continuum\\anaconda3\\envs\\keras\\lib\\site-packages\\tensorboard\\compat\\tensorflow_stub\\dtypes.py:550: FutureWarning: Passing (type, 1) or '1type' as a synonym of type is deprecated; in a future version of numpy, it will be understood as (type, (1,)) / '(1,)type'.\n",
      "  np_resource = np.dtype([(\"resource\", np.ubyte, 1)])\n"
     ]
    },
    {
     "name": "stdout",
     "output_type": "stream",
     "text": [
      "\n",
      "2019-11-27 09:11:19,171 [INFO: __init__.py 23] path: ..\\logs\n"
     ]
    }
   ],
   "source": [
    "%load_ext autoreload\n",
    "%autoreload 2\n",
    "\n",
    "root = r\"C:\\Users\\zwecher\\Documents\\mygit\\new_predictor\"\n",
    "#predictor_path  = r\"C:\\Users\\zwecher\\Documents\\mygit\\Indoors_Capabilities\\predictor\"\n",
    "#model_path = r\"C:\\Users\\zwecher\\Documents\\mygit\\Indoors_Capabilities\\models\"\n",
    "\n",
    "from importlib import reload  # Not needed in Python 2\n",
    "import logging\n",
    "reload(logging)\n",
    "import numpy as np\n",
    "import pandas as pd\n",
    "import matplotlib.pyplot as plt\n",
    "import tensorflow as tf\n",
    "from tensorflow.keras.models import Sequential\n",
    "from tensorflow.keras import models\n",
    "from tensorflow.keras import backend as K \n",
    "\n",
    "from tensorflow import keras\n",
    "import sys, os\n",
    "sys.path.insert(0,root)\n",
    "#from predictor import predictor, config, restore\n",
    "import utils\n",
    "from predictor import buildings_predictor as bp\n",
    "from predictor import batch_manager\n",
    "from predictor import full_model_predictor as fmp\n",
    "from predictor import config\n",
    "utils.set_log()\n",
    "os.chdir(r\"C:\\Users\\zwecher\\Documents\\mygit\\new_predictor\\predictor\")"
   ]
  },
  {
   "cell_type": "code",
   "execution_count": 2,
   "metadata": {},
   "outputs": [
    {
     "name": "stdout",
     "output_type": "stream",
     "text": [
      "\n",
      "2019-11-27 09:11:24,892 [INFO: full_model_predictor.py 22] 96\n",
      "WARNING:tensorflow:From C:\\Users\\zwecher\\AppData\\Local\\Continuum\\anaconda3\\envs\\keras\\lib\\site-packages\\tensorflow\\python\\ops\\nn_impl.py:182: add_dispatch_support.<locals>.wrapper (from tensorflow.python.ops.array_ops) is deprecated and will be removed in a future version.\n",
      "Instructions for updating:\n",
      "Use tf.where in 2.0, which has the same broadcast rule as np.where\n",
      "\n",
      "2019-11-27 09:11:27,183 [WARNING: deprecation.py 323] From C:\\Users\\zwecher\\AppData\\Local\\Continuum\\anaconda3\\envs\\keras\\lib\\site-packages\\tensorflow\\python\\ops\\nn_impl.py:182: add_dispatch_support.<locals>.wrapper (from tensorflow.python.ops.array_ops) is deprecated and will be removed in a future version.\n",
      "Instructions for updating:\n",
      "Use tf.where in 2.0, which has the same broadcast rule as np.where\n",
      "Model: \"model\"\n",
      "__________________________________________________________________________________________________\n",
      "Layer (type)                    Output Shape         Param #     Connected to                     \n",
      "==================================================================================================\n",
      "obs (InputLayer)                [(None, 96, 96, 1)]  0                                            \n",
      "__________________________________________________________________________________________________\n",
      "conv_0 (Conv2D)                 (None, 94, 94, 25)   250         obs[0][0]                        \n",
      "__________________________________________________________________________________________________\n",
      "conv_1 (Conv2D)                 (None, 92, 92, 25)   5650        conv_0[0][0]                     \n",
      "__________________________________________________________________________________________________\n",
      "conv_2 (Conv2D)                 (None, 90, 90, 25)   5650        conv_1[0][0]                     \n",
      "__________________________________________________________________________________________________\n",
      "conv_3 (Conv2D)                 (None, 88, 88, 25)   5650        conv_2[0][0]                     \n",
      "__________________________________________________________________________________________________\n",
      "conv_4 (Conv2D)                 (None, 86, 86, 25)   5650        conv_3[0][0]                     \n",
      "__________________________________________________________________________________________________\n",
      "max_pool_2d_4 (MaxPooling2D)    (None, 43, 43, 25)   0           conv_4[0][0]                     \n",
      "__________________________________________________________________________________________________\n",
      "conv_5 (Conv2D)                 (None, 41, 41, 25)   5650        max_pool_2d_4[0][0]              \n",
      "__________________________________________________________________________________________________\n",
      "conv_6 (Conv2D)                 (None, 39, 39, 25)   5650        conv_5[0][0]                     \n",
      "__________________________________________________________________________________________________\n",
      "conv_7 (Conv2D)                 (None, 37, 37, 25)   5650        conv_6[0][0]                     \n",
      "__________________________________________________________________________________________________\n",
      "conv_8 (Conv2D)                 (None, 35, 35, 25)   5650        conv_7[0][0]                     \n",
      "__________________________________________________________________________________________________\n",
      "last_conv (Conv2D)              (None, 29, 29, 1)    1226        conv_8[0][0]                     \n",
      "__________________________________________________________________________________________________\n",
      "flat (Flatten)                  (None, 841)          0           last_conv[0][0]                  \n",
      "__________________________________________________________________________________________________\n",
      "lab (InputLayer)                [(None, 9216)]       0                                            \n",
      "__________________________________________________________________________________________________\n",
      "dense (Dense)                   (None, 9216)         7759872     flat[0][0]                       \n",
      "__________________________________________________________________________________________________\n",
      "loss_for_logits (Lambda)        (None, 9216)         0           lab[0][0]                        \n",
      "                                                                 dense[0][0]                      \n",
      "__________________________________________________________________________________________________\n",
      "mask (Lambda)                   (None, 9216)         101         obs[0][0]                        \n",
      "__________________________________________________________________________________________________\n",
      "masked_loss (Multiply)          (None, 9216)         0           loss_for_logits[0][0]            \n",
      "                                                                 mask[0][0]                       \n",
      "==================================================================================================\n",
      "Total params: 7,806,649\n",
      "Trainable params: 7,806,548\n",
      "Non-trainable params: 101\n",
      "__________________________________________________________________________________________________\n"
     ]
    }
   ],
   "source": [
    "K.clear_session()\n",
    "model = fmp.get_dense_model()"
   ]
  },
  {
   "cell_type": "code",
   "execution_count": null,
   "metadata": {
    "scrolled": true
   },
   "outputs": [
    {
     "name": "stdout",
     "output_type": "stream",
     "text": [
      "  97/1953 [>.............................] - ETA: 43:36 - loss: 0.3473"
     ]
    }
   ],
   "source": [
    "fmp.train_model(model,1, batch_size=128)"
   ]
  },
  {
   "cell_type": "code",
   "execution_count": null,
   "metadata": {},
   "outputs": [],
   "source": [
    "model.save(r\"C:\\Users\\zwecher\\Documents\\mygit\\new_predictor\\models\\models_6260_conv\\model-01-0.0905.hdf5\")"
   ]
  },
  {
   "cell_type": "code",
   "execution_count": null,
   "metadata": {},
   "outputs": [],
   "source": [
    "K.clear_session()\n",
    "m = fmp.get_model()\n",
    "m.load_weights(r\"C:\\Users\\zwecher\\Documents\\mygit\\new_predictor\\models\\models6260_dense\\6260_model2.HDF5\")"
   ]
  },
  {
   "cell_type": "code",
   "execution_count": null,
   "metadata": {},
   "outputs": [],
   "source": [
    "metadata_df = batch_manager.create_metadata_df()\n",
    "bm = batch_manager.BatchManager(metadata_df,test_num=256)\n",
    "x_test,y_test  =  bm.get_test_batch()\n",
    "func= utils.get_inermediate_layers_func(model, [\"obs\",\"last_conv\",\"flat\",\"loss_for_logits\",\"lab\",\"mask\",\"masked_loss\"])\n",
    "obs,last_conv, logits,loss_for_logits,labels,mask,masked_loss= func((x_test,y_test))"
   ]
  },
  {
   "cell_type": "code",
   "execution_count": null,
   "metadata": {
    "scrolled": false
   },
   "outputs": [],
   "source": [
    "i=14\n",
    "%matplotlib notebook\n",
    "plt.subplot(221)\n",
    "plt.imshow(mask[i].reshape(config.HEIGHT,config.WIDTH))\n",
    "plt.subplot(222)\n",
    "plt.imshow(obs[i].reshape(config.HEIGHT,config.WIDTH))\n",
    "plt.subplot(223)\n",
    "plt.imshow((utils.logits_to_probs(logits[i])).reshape(config.HEIGHT,config.WIDTH))\n",
    "plt.subplot(224)\n",
    "plt.imshow(labels[i].reshape(config.HEIGHT,config.WIDTH))\n",
    "\n"
   ]
  },
  {
   "cell_type": "code",
   "execution_count": null,
   "metadata": {},
   "outputs": [],
   "source": [
    "%matplotlib notebook\n",
    "plt.hist(logits.flatten(),bins=100)"
   ]
  },
  {
   "cell_type": "code",
   "execution_count": null,
   "metadata": {},
   "outputs": [],
   "source": [
    "i=80\n",
    "%matplotlib notebook\n",
    "plt.subplot(121)\n",
    "plt.imshow(obs[i].reshape(92,90))\n",
    "for k in range(1):\n",
    "    plt.subplot(122)\n",
    "    plt.imshow(convs[k][i,:,:,0].squeeze())\n",
    "# plt.subplot(222)\n",
    "# plt.imshow(obs[i].reshape(92,90))\n",
    "# plt.subplot(223)\n",
    "# plt.imshow(utils.logits_to_probs(logits[i]).reshape(92,90))\n",
    "# plt.subplot(224)\n",
    "# plt.imshow(labels[i].reshape(92,90))"
   ]
  },
  {
   "cell_type": "code",
   "execution_count": null,
   "metadata": {},
   "outputs": [],
   "source": [
    "%matplotlib notebook\n",
    "plt.imshow(x_test[0][0].squeeze())"
   ]
  },
  {
   "cell_type": "code",
   "execution_count": null,
   "metadata": {},
   "outputs": [],
   "source": [
    "pd.Series(y_test[0].flatten()).value_counts()"
   ]
  },
  {
   "cell_type": "code",
   "execution_count": null,
   "metadata": {},
   "outputs": [],
   "source": [
    "#func = utils.get_inermediate_layers_func(model,[\"flatten\"])\n",
    "for i in range(20):\n",
    "    x,y=  bm.get_next_train_batch(256)\n",
    "   \n",
    "    model.train_on_batch(x,y)\n",
    "    if i%1 == 0:\n",
    "        loss = model.evaluate(x_test,y_test)\n",
    "        print(loss)"
   ]
  },
  {
   "cell_type": "code",
   "execution_count": null,
   "metadata": {},
   "outputs": [],
   "source": []
  },
  {
   "cell_type": "code",
   "execution_count": null,
   "metadata": {},
   "outputs": [],
   "source": [
    "%matplotlib notebook\n",
    "func= utils.get_inermediate_layers_func(model, [\"obs\",\"last_conv\",\"logits\",\"loss_for_logits\",\"lab\",\"mask\",\"masked_loss\"])\n",
    "obs,last_conv, logits,loss_for_logits,labels,mask,masked_loss= func((x_test,y_test))\n",
    "# for i in range(7):\n",
    "#     convs.append(\"conv_{}\".format(i))\n",
    "# func= utils.get_inermediate_layers_func(model, convs)    \n",
    "# convs = func((x_test,y_test))\n",
    "# #plt.hist(q[0].flatten(),bins=1000)\n"
   ]
  },
  {
   "cell_type": "code",
   "execution_count": null,
   "metadata": {},
   "outputs": [],
   "source": [
    "i=72\n",
    "%matplotlib notebook\n",
    "plt.subplot(131)\n",
    "plt.imshow(obs[i].squeeze())\n",
    "plt.subplot(132)\n",
    "plt.imshow(last_conv[i].squeeze())\n",
    "plt.subplot(133)\n",
    "plt.imshow(labels[i].reshape((82,80)))\n",
    "\n"
   ]
  },
  {
   "cell_type": "code",
   "execution_count": null,
   "metadata": {},
   "outputs": [],
   "source": [
    "pd.Series(mask.flatten()).value_counts()"
   ]
  },
  {
   "cell_type": "code",
   "execution_count": null,
   "metadata": {},
   "outputs": [],
   "source": [
    "mask.shape"
   ]
  },
  {
   "cell_type": "code",
   "execution_count": null,
   "metadata": {},
   "outputs": [],
   "source": [
    "%matplotlib notebook\n",
    "pd.Series(labels[0]).value_counts()"
   ]
  },
  {
   "cell_type": "code",
   "execution_count": null,
   "metadata": {},
   "outputs": [],
   "source": [
    "(y_test[0]==0).sum()"
   ]
  },
  {
   "cell_type": "code",
   "execution_count": null,
   "metadata": {},
   "outputs": [],
   "source": [
    "model.get_losses_for([x_test])"
   ]
  },
  {
   "cell_type": "code",
   "execution_count": null,
   "metadata": {},
   "outputs": [],
   "source": [
    "convs[0].shape"
   ]
  },
  {
   "cell_type": "code",
   "execution_count": null,
   "metadata": {},
   "outputs": [],
   "source": [
    "%matplotlib notebook\n",
    "plt.hist(logits[100].flatten(),bins=100)"
   ]
  },
  {
   "cell_type": "code",
   "execution_count": null,
   "metadata": {},
   "outputs": [],
   "source": [
    "bp.train_model(model,1)"
   ]
  },
  {
   "cell_type": "code",
   "execution_count": null,
   "metadata": {},
   "outputs": [],
   "source": [
    "#bp.train_model(model,3)\n",
    "model.save_weights(r\"C:\\Users\\zwecher\\Documents\\mygit\\new_predictor\\models\\models_6260\\model_tmp.hdf5\")"
   ]
  },
  {
   "cell_type": "code",
   "execution_count": null,
   "metadata": {},
   "outputs": [],
   "source": [
    "q = tf.keras.models.load_model(r\"C:\\Users\\zwecher\\Documents\\mygit\\new_predictor\\models\\models_6260\\model_tmp.hdf5\",compile=False)\n"
   ]
  },
  {
   "cell_type": "code",
   "execution_count": null,
   "metadata": {},
   "outputs": [],
   "source": [
    "q = tf.keras.models.load_model(r\"C:\\Users\\zwecher\\Documents\\mygit\\new_predictor\\models\\models_6260\\model-01-0.3287.hdf5\",compile=False)\n",
    "ao = tf.keras.optimizers.Adam(learning_rate=0.001)\n",
    "loss = fmp.loss\n",
    "q.compile(optimizer=ao, loss=loss)\n",
    "#func = utils.get_inermediate_layers_func(q,[\"dense\"])"
   ]
  },
  {
   "cell_type": "code",
   "execution_count": null,
   "metadata": {},
   "outputs": [],
   "source": [
    "func = utils.get_inermediate_layers_func(model,[\"dense\"])\n",
    "v=func(x)"
   ]
  },
  {
   "cell_type": "code",
   "execution_count": null,
   "metadata": {},
   "outputs": [],
   "source": [
    "v[0].shape"
   ]
  },
  {
   "cell_type": "code",
   "execution_count": null,
   "metadata": {},
   "outputs": [],
   "source": [
    "f=model.get_layer(\"bn\")"
   ]
  },
  {
   "cell_type": "code",
   "execution_count": null,
   "metadata": {},
   "outputs": [],
   "source": [
    "f.get_weights()"
   ]
  },
  {
   "cell_type": "code",
   "execution_count": null,
   "metadata": {},
   "outputs": [],
   "source": [
    "func = utils.get_inermediate_layers_func(model,[\"flatten\"])\n",
    "v=func(x_test)"
   ]
  },
  {
   "cell_type": "code",
   "execution_count": null,
   "metadata": {},
   "outputs": [],
   "source": [
    "%matplotlib notebook\n",
    "i=80\n",
    "plt.subplot(131)\n",
    "plt.imshow(utils.logits_to_probs(v[0][i]).reshape(62,60))\n",
    "plt.subplot(132)\n",
    "plt.imshow(x_test[i].squeeze())\n",
    "plt.subplot(133)\n",
    "plt.imshow(y_test[i].reshape(62,60))\n"
   ]
  },
  {
   "cell_type": "code",
   "execution_count": null,
   "metadata": {},
   "outputs": [],
   "source": [
    "%matplotlib notebook\n",
    "plt.hist(v[0].flatten(),bins=1000)"
   ]
  },
  {
   "cell_type": "code",
   "execution_count": null,
   "metadata": {},
   "outputs": [],
   "source": [
    "3+4"
   ]
  },
  {
   "cell_type": "code",
   "execution_count": null,
   "metadata": {},
   "outputs": [],
   "source": [
    "q.compile()"
   ]
  },
  {
   "cell_type": "code",
   "execution_count": null,
   "metadata": {},
   "outputs": [],
   "source": [
    "model.get_config()"
   ]
  },
  {
   "cell_type": "code",
   "execution_count": null,
   "metadata": {},
   "outputs": [],
   "source": [
    "(v[0]<0).mean()"
   ]
  },
  {
   "cell_type": "code",
   "execution_count": null,
   "metadata": {},
   "outputs": [],
   "source": [
    "%matplotlib tk\n",
    "plt.hist(v[0][0].flatten())"
   ]
  },
  {
   "cell_type": "code",
   "execution_count": null,
   "metadata": {},
   "outputs": [],
   "source": [
    "from datetime import datetime\n"
   ]
  },
  {
   "cell_type": "code",
   "execution_count": null,
   "metadata": {},
   "outputs": [],
   "source": [
    "datetime.now()-datetime(2017,2,6)"
   ]
  },
  {
   "cell_type": "code",
   "execution_count": null,
   "metadata": {},
   "outputs": [],
   "source": [
    "q = np.random.randn(5,6,7)\n",
    "l = tf.keras.layers.Conv2D(q,kernel_size=10,kernel_initializer=\"ones\")"
   ]
  },
  {
   "cell_type": "code",
   "execution_count": null,
   "metadata": {},
   "outputs": [],
   "source": [
    "l."
   ]
  },
  {
   "cell_type": "code",
   "execution_count": null,
   "metadata": {},
   "outputs": [],
   "source": [
    "import cv2"
   ]
  },
  {
   "cell_type": "code",
   "execution_count": null,
   "metadata": {},
   "outputs": [],
   "source": [
    "%matplotlib notebook\n",
    "im = labels[0].reshape(62,60)\n",
    "plt.imshow(cv2.resize(im,(21,20)))"
   ]
  },
  {
   "cell_type": "code",
   "execution_count": null,
   "metadata": {},
   "outputs": [],
   "source": [
    "pd.Series(cv2.resize(im,(30,30)).flatten()).value_counts()"
   ]
  },
  {
   "cell_type": "code",
   "execution_count": null,
   "metadata": {},
   "outputs": [],
   "source": [
    "config = model.get_config()\n",
    "reinitialized_model = keras.Model.from_config(config)"
   ]
  },
  {
   "cell_type": "code",
   "execution_count": null,
   "metadata": {},
   "outputs": [],
   "source": []
  }
 ],
 "metadata": {
  "kernelspec": {
   "display_name": "Python [conda env:keras]",
   "language": "python",
   "name": "conda-env-keras-py"
  },
  "language_info": {
   "codemirror_mode": {
    "name": "ipython",
    "version": 3
   },
   "file_extension": ".py",
   "mimetype": "text/x-python",
   "name": "python",
   "nbconvert_exporter": "python",
   "pygments_lexer": "ipython3",
   "version": "3.6.9"
  }
 },
 "nbformat": 4,
 "nbformat_minor": 2
}
