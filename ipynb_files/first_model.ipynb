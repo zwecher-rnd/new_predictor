{
 "cells": [
  {
   "cell_type": "code",
   "execution_count": 1,
   "metadata": {},
   "outputs": [
    {
     "name": "stdout",
     "output_type": "stream",
     "text": [
      "\n",
      "2019-12-17 16:15:08,128 [INFO: __init__.py 23] path: ..\\logs\n"
     ]
    }
   ],
   "source": [
    "%load_ext autoreload\n",
    "%autoreload 2\n",
    "\n",
    "root = r\"C:\\Users\\zwecher\\Documents\\mygit\\new_predictor\"\n",
    "#predictor_path  = r\"C:\\Users\\zwecher\\Documents\\mygit\\Indoors_Capabilities\\predictor\"\n",
    "#model_path = r\"C:\\Users\\zwecher\\Documents\\mygit\\Indoors_Capabilities\\models\"\n",
    "\n",
    "from importlib import reload  # Not needed in Python 2\n",
    "import logging\n",
    "reload(logging)\n",
    "import numpy as np\n",
    "import pandas as pd\n",
    "import matplotlib.pyplot as plt\n",
    "import tensorflow as tf\n",
    "from tensorflow.keras.models import Sequential\n",
    "from tensorflow.keras import models\n",
    "from tensorflow.keras import backend as K \n",
    "\n",
    "from tensorflow import keras\n",
    "import sys, os\n",
    "sys.path.insert(0,root)\n",
    "#from predictor import predictor, config, restore\n",
    "import utils\n",
    "from predictor import buildings_predictor as bp\n",
    "from predictor import batch_manager\n",
    "from predictor import full_model_predictor as fmp\n",
    "from predictor import config\n",
    "utils.set_log()\n",
    "os.chdir(r\"C:\\Users\\zwecher\\Documents\\mygit\\new_predictor\\predictor\")"
   ]
  },
  {
   "cell_type": "code",
   "execution_count": 14,
   "metadata": {},
   "outputs": [
    {
     "name": "stdout",
     "output_type": "stream",
     "text": [
      "Model: \"model\"\n",
      "__________________________________________________________________________________________________\n",
      "Layer (type)                    Output Shape         Param #     Connected to                     \n",
      "==================================================================================================\n",
      "obs (InputLayer)                [(None, 112, 112, 1) 0                                            \n",
      "__________________________________________________________________________________________________\n",
      "conv_0 (Conv2D)                 (None, 112, 112, 25) 250         obs[0][0]                        \n",
      "__________________________________________________________________________________________________\n",
      "max_pool_2d_0 (MaxPooling2D)    (None, 56, 56, 25)   0           conv_0[0][0]                     \n",
      "__________________________________________________________________________________________________\n",
      "conv_1 (Conv2D)                 (None, 56, 56, 25)   5650        max_pool_2d_0[0][0]              \n",
      "__________________________________________________________________________________________________\n",
      "conv_2 (Conv2D)                 (None, 56, 56, 25)   5650        conv_1[0][0]                     \n",
      "__________________________________________________________________________________________________\n",
      "conv_3 (Conv2D)                 (None, 56, 56, 25)   5650        conv_2[0][0]                     \n",
      "__________________________________________________________________________________________________\n",
      "max_pool_2d_3 (MaxPooling2D)    (None, 28, 28, 25)   0           conv_3[0][0]                     \n",
      "__________________________________________________________________________________________________\n",
      "conv_4 (Conv2D)                 (None, 28, 28, 25)   5650        max_pool_2d_3[0][0]              \n",
      "__________________________________________________________________________________________________\n",
      "conv_5 (Conv2D)                 (None, 28, 28, 25)   5650        conv_4[0][0]                     \n",
      "__________________________________________________________________________________________________\n",
      "conv_6 (Conv2D)                 (None, 28, 28, 25)   5650        conv_5[0][0]                     \n",
      "__________________________________________________________________________________________________\n",
      "max_pool_2d_6 (MaxPooling2D)    (None, 14, 14, 25)   0           conv_6[0][0]                     \n",
      "__________________________________________________________________________________________________\n",
      "conv_7 (Conv2D)                 (None, 14, 14, 25)   5650        max_pool_2d_6[0][0]              \n",
      "__________________________________________________________________________________________________\n",
      "conv_8 (Conv2D)                 (None, 14, 14, 25)   5650        conv_7[0][0]                     \n",
      "__________________________________________________________________________________________________\n",
      "trnasp_0 (Conv2DTranspose)      (None, 28, 28, 25)   5650        conv_8[0][0]                     \n",
      "__________________________________________________________________________________________________\n",
      "trnasp_1 (Conv2DTranspose)      (None, 56, 56, 25)   5650        trnasp_0[0][0]                   \n",
      "__________________________________________________________________________________________________\n",
      "trnasp_2 (Conv2DTranspose)      (None, 112, 112, 25) 5650        trnasp_1[0][0]                   \n",
      "__________________________________________________________________________________________________\n",
      "last_conv (Conv2D)              (None, 112, 112, 1)  226         trnasp_2[0][0]                   \n",
      "__________________________________________________________________________________________________\n",
      "flat (Flatten)                  (None, 12544)        0           last_conv[0][0]                  \n",
      "__________________________________________________________________________________________________\n",
      "lab (InputLayer)                [(None, 12544)]      0                                            \n",
      "__________________________________________________________________________________________________\n",
      "loss_for_logits (Lambda)        (None, 12544)        0           lab[0][0]                        \n",
      "                                                                 flat[0][0]                       \n",
      "__________________________________________________________________________________________________\n",
      "mask (Lambda)                   (None, 12544)        101         obs[0][0]                        \n",
      "__________________________________________________________________________________________________\n",
      "masked_loss (Multiply)          (None, 12544)        0           loss_for_logits[0][0]            \n",
      "                                                                 mask[0][0]                       \n",
      "==================================================================================================\n",
      "Total params: 62,727\n",
      "Trainable params: 62,626\n",
      "Non-trainable params: 101\n",
      "__________________________________________________________________________________________________\n"
     ]
    }
   ],
   "source": [
    "from predictor import predict_obs\n",
    "K.clear_session()\n",
    "path_8080 = r\"C:\\Users\\zwecher\\Documents\\mygit\\new_predictor\\models\\models_8080_conv\\model-06-0.0740.hdf5\"\n",
    "model=predict_obs.create_model(path_8080,80,80)\n",
    "obs_path = r\"D:\\predictor_data\\data\\observations_global\\obs00001_3.txt\"\n",
    "#labels_path  = r\"D:\\predictor_data\\data\\buildings_global\\labels00001.txt\"\n",
    "obs = np.loadtxt(obs_path)\n",
    "obs[obs==0] = -1.0\n",
    "obs[obs==3] = 0\n",
    "prob=predict_obs.get_prediction(model,obs)\n"
   ]
  },
  {
   "cell_type": "code",
   "execution_count": 16,
   "metadata": {},
   "outputs": [
    {
     "data": {
      "text/plain": [
       "<matplotlib.image.AxesImage at 0x2701dd6c390>"
      ]
     },
     "execution_count": 16,
     "metadata": {},
     "output_type": "execute_result"
    },
    {
     "data": {
      "image/png": "[encoded data removed]",
      "text/plain": [
       "<Figure size 432x288 with 1 Axes>"
      ]
     },
     "metadata": {
      "needs_background": "light"
     },
     "output_type": "display_data"
    }
   ],
   "source": [
    "prob.shape\n",
    "plt.imshow(prob)"
   ]
  },
  {
   "cell_type": "code",
   "execution_count": null,
   "metadata": {},
   "outputs": [],
   "source": [
    "K.clear_session()\n",
    "model = fmp.get_conv_model()\n",
    "obs_path = r\"D:\\predictor_data\\data\\observations_global\\obs00001_3.txt\"\n",
    "labels_path  = r\"D:\\predictor_data\\data\\buildings_global\\labels00001.txt\"\n",
    "obs = np.loadtxt(obs_path)\n",
    "obs[obs==0] = -1.0\n",
    "obs[obs==3] = 0\n"
   ]
  },
  {
   "cell_type": "code",
   "execution_count": 10,
   "metadata": {},
   "outputs": [
    {
     "name": "stdout",
     "output_type": "stream",
     "text": [
      "Model: \"model\"\n",
      "__________________________________________________________________________________________________\n",
      "Layer (type)                    Output Shape         Param #     Connected to                     \n",
      "==================================================================================================\n",
      "obs (InputLayer)                [(None, 112, 112, 1) 0                                            \n",
      "__________________________________________________________________________________________________\n",
      "conv_0 (Conv2D)                 (None, 112, 112, 25) 250         obs[0][0]                        \n",
      "__________________________________________________________________________________________________\n",
      "max_pool_2d_0 (MaxPooling2D)    (None, 56, 56, 25)   0           conv_0[0][0]                     \n",
      "__________________________________________________________________________________________________\n",
      "conv_1 (Conv2D)                 (None, 56, 56, 25)   5650        max_pool_2d_0[0][0]              \n",
      "__________________________________________________________________________________________________\n",
      "conv_2 (Conv2D)                 (None, 56, 56, 25)   5650        conv_1[0][0]                     \n",
      "__________________________________________________________________________________________________\n",
      "conv_3 (Conv2D)                 (None, 56, 56, 25)   5650        conv_2[0][0]                     \n",
      "__________________________________________________________________________________________________\n",
      "max_pool_2d_3 (MaxPooling2D)    (None, 28, 28, 25)   0           conv_3[0][0]                     \n",
      "__________________________________________________________________________________________________\n",
      "conv_4 (Conv2D)                 (None, 28, 28, 25)   5650        max_pool_2d_3[0][0]              \n",
      "__________________________________________________________________________________________________\n",
      "conv_5 (Conv2D)                 (None, 28, 28, 25)   5650        conv_4[0][0]                     \n",
      "__________________________________________________________________________________________________\n",
      "conv_6 (Conv2D)                 (None, 28, 28, 25)   5650        conv_5[0][0]                     \n",
      "__________________________________________________________________________________________________\n",
      "max_pool_2d_6 (MaxPooling2D)    (None, 14, 14, 25)   0           conv_6[0][0]                     \n",
      "__________________________________________________________________________________________________\n",
      "conv_7 (Conv2D)                 (None, 14, 14, 25)   5650        max_pool_2d_6[0][0]              \n",
      "__________________________________________________________________________________________________\n",
      "conv_8 (Conv2D)                 (None, 14, 14, 25)   5650        conv_7[0][0]                     \n",
      "__________________________________________________________________________________________________\n",
      "trnasp_0 (Conv2DTranspose)      (None, 28, 28, 25)   5650        conv_8[0][0]                     \n",
      "__________________________________________________________________________________________________\n",
      "trnasp_1 (Conv2DTranspose)      (None, 56, 56, 25)   5650        trnasp_0[0][0]                   \n",
      "__________________________________________________________________________________________________\n",
      "trnasp_2 (Conv2DTranspose)      (None, 112, 112, 25) 5650        trnasp_1[0][0]                   \n",
      "__________________________________________________________________________________________________\n",
      "last_conv (Conv2D)              (None, 112, 112, 1)  226         trnasp_2[0][0]                   \n",
      "__________________________________________________________________________________________________\n",
      "flat (Flatten)                  (None, 12544)        0           last_conv[0][0]                  \n",
      "__________________________________________________________________________________________________\n",
      "lab (InputLayer)                [(None, 12544)]      0                                            \n",
      "__________________________________________________________________________________________________\n",
      "loss_for_logits (Lambda)        (None, 12544)        0           lab[0][0]                        \n",
      "                                                                 flat[0][0]                       \n",
      "__________________________________________________________________________________________________\n",
      "mask (Lambda)                   (None, 12544)        101         obs[0][0]                        \n",
      "__________________________________________________________________________________________________\n",
      "masked_loss (Multiply)          (None, 12544)        0           loss_for_logits[0][0]            \n",
      "                                                                 mask[0][0]                       \n",
      "==================================================================================================\n",
      "Total params: 62,727\n",
      "Trainable params: 62,626\n",
      "Non-trainable params: 101\n",
      "__________________________________________________________________________________________________\n"
     ]
    },
    {
     "data": {
      "image/png": "[encoded data removed]",
      "text/plain": [
       "<Figure size 432x288 with 1 Axes>"
      ]
     },
     "metadata": {
      "needs_background": "light"
     },
     "output_type": "display_data"
    }
   ],
   "source": [
    "%matplotlib inline\n",
    "K.clear_session()\n",
    "obs_path = r\"D:\\predictor_data\\data\\observations_global\\obs00001_3.txt\"\n",
    "labels_path  = r\"D:\\predictor_data\\data\\buildings_global\\labels00001.txt\"\n",
    "obs = np.loadtxt(obs_path)\n",
    "obs[obs==0] = -1.0\n",
    "obs[obs==3] = 0\n",
    "\n",
    "labels =np.loadtxt(labels_path)\n",
    "plt.subplot(211)\n",
    "plt.imshow(obs)\n",
    "#obs = np.reshape(obs,newshape = (1,obs.shape[0],obs.shape[1],1))\n",
    "height = obs.shape[0]+32\n",
    "width = obs.shape[1]+32\n",
    "if height % 8 != 0:\n",
    "    height = height - height % 8 + 8\n",
    "if width % 8 != 0:\n",
    "    width = width - width % 8 + 8\n",
    "margin_h = (height-obs.shape[0])//2\n",
    "margin_w = (width-obs.shape[1])//2\n",
    "final_obs = np.zeros(shape = (height,width))\n",
    "final_obs[margin_h:margin_h+obs.shape[0],margin_w:margin_w+obs.shape[1]] = obs\n",
    "final_labels = np.zeros(shape = (height,width))\n",
    "final_labels[margin_h:margin_h+obs.shape[0],margin_w:margin_w+obs.shape[1]] = labels\n",
    "\n",
    "final_obs = np.reshape(final_obs,newshape = (1,final_obs.shape[0],final_obs.shape[1],1))\n",
    "path_6260 = r\"C:\\Users\\zwecher\\Documents\\mygit\\new_predictor\\models\\models_6260_conv\\model-20-0.1013.hdf5\"\n",
    "path_8080 = r\"C:\\Users\\zwecher\\Documents\\mygit\\new_predictor\\models\\models_8080_conv\\model-06-0.0740.hdf5\"\n",
    "model = fmp.get_conv_model(height=final_obs.shape[1],width=final_obs.shape[2])\n",
    "model.load_weights(path_8080)\n",
    "\n",
    "# func= utils.get_inermediate_layers_func(model, [\"flat\"])\n",
    "# plt.subplot(212)\n",
    "# plt.imshow(final_obs[0,:,:,0])\n",
    "\n",
    "# logits= func((final_obs,final_labels))\n",
    "# logits = np.reshape(logits[0],newshape = [height,width])\n",
    "# probs = utils.logits_to_probs(logits)\n"
   ]
  },
  {
   "cell_type": "code",
   "execution_count": null,
   "metadata": {},
   "outputs": [],
   "source": [
    "prediction,_ = model.predict(x=[final_obs,np.ones((1,height*width)).astype(float)])\n",
    "prediction = np.exp(prediction)/(np.exp(prediction))"
   ]
  },
  {
   "cell_type": "code",
   "execution_count": null,
   "metadata": {},
   "outputs": [],
   "source": [
    "prediction.re"
   ]
  },
  {
   "cell_type": "code",
   "execution_count": null,
   "metadata": {},
   "outputs": [],
   "source": [
    "%matplotlib inline\n",
    "plt.imshow(utils.logits_to_probs(logits))"
   ]
  },
  {
   "cell_type": "code",
   "execution_count": null,
   "metadata": {},
   "outputs": [],
   "source": [
    "%matplotlib notebook\n",
    "plt.subplot(211)\n",
    "plt.imshow(final_obs[0,:,:,0])\n",
    "plt.subplot(212)\n",
    "plt.imshow(probs)"
   ]
  },
  {
   "cell_type": "code",
   "execution_count": null,
   "metadata": {},
   "outputs": [],
   "source": [
    "plt.hist(probs.flatten())"
   ]
  },
  {
   "cell_type": "code",
   "execution_count": null,
   "metadata": {},
   "outputs": [],
   "source": [
    "len(model.predict(b))"
   ]
  },
  {
   "cell_type": "code",
   "execution_count": null,
   "metadata": {
    "scrolled": true
   },
   "outputs": [],
   "source": [
    "fmp.train_model(model,5, batch_size=128)"
   ]
  },
  {
   "cell_type": "code",
   "execution_count": null,
   "metadata": {},
   "outputs": [],
   "source": [
    "#model.save(r\"C:\\Users\\zwecher\\Documents\\mygit\\new_predictor\\models\\models_6260_dense\\model-01-0.2856.hdf5\")"
   ]
  },
  {
   "cell_type": "code",
   "execution_count": null,
   "metadata": {},
   "outputs": [],
   "source": [
    "metadata_df = batch_manager.create_metadata_df()\n"
   ]
  },
  {
   "cell_type": "code",
   "execution_count": null,
   "metadata": {},
   "outputs": [],
   "source": [
    "metadata_df.columns"
   ]
  },
  {
   "cell_type": "code",
   "execution_count": null,
   "metadata": {},
   "outputs": [],
   "source": [
    "metadata_df = batch_manager.create_metadata_df()\n",
    "metadata_df.iloc[-1,0]=r\"D:\\predictor_data\\data\\observations_global\\obs00001_3.txt\"\n",
    "metadata_df.iloc[-1,1] = r\"D:\\predictor_data\\data\\buildings_global\\labels00001.txt\"\n",
    "\n"
   ]
  },
  {
   "cell_type": "code",
   "execution_count": null,
   "metadata": {},
   "outputs": [],
   "source": [
    "#metadata_df = batch_manager.create_metadata_df()\n",
    "metadata_df = batch_manager.create_metadata_df()\n",
    "metadata_df.iloc[-1,0]=r\"D:\\predictor_data\\data\\observations_global\\obs00001_3.txt\"\n",
    "metadata_df.iloc[-1,1] = r\"D:\\predictor_data\\data\\buildings_global\\labels00001.txt\"\n",
    "\n",
    "bm = batch_manager.BatchManager(metadata_df,test_num=256)\n",
    "x_test,y_test  =  bm.get_test_batch()\n",
    "func= utils.get_inermediate_layers_func(model, [\"obs\",\"last_conv\",\"flat\",\"loss_for_logits\",\"lab\",\"mask\",\"masked_loss\"])\n",
    "obs,last_conv, logits,loss_for_logits,labels,mask,masked_loss= func(x_test)"
   ]
  },
  {
   "cell_type": "code",
   "execution_count": null,
   "metadata": {},
   "outputs": [],
   "source": [
    "pd.Series(x_test[0][-1].flatten()).value_counts()"
   ]
  },
  {
   "cell_type": "code",
   "execution_count": null,
   "metadata": {},
   "outputs": [],
   "source": [
    "plt.imshow(x_test[0][0,:,:,0])"
   ]
  },
  {
   "cell_type": "code",
   "execution_count": null,
   "metadata": {},
   "outputs": [],
   "source": [
    "metadata_df.iloc[-1,0]"
   ]
  },
  {
   "cell_type": "code",
   "execution_count": null,
   "metadata": {},
   "outputs": [],
   "source": [
    "x_test[0].shape"
   ]
  },
  {
   "cell_type": "code",
   "execution_count": null,
   "metadata": {},
   "outputs": [],
   "source": [
    "w[1].shape"
   ]
  },
  {
   "cell_type": "code",
   "execution_count": null,
   "metadata": {},
   "outputs": [],
   "source": [
    "obs.shape"
   ]
  },
  {
   "cell_type": "code",
   "execution_count": null,
   "metadata": {
    "scrolled": false
   },
   "outputs": [],
   "source": [
    "%matplotlib inline\n",
    "l = [226,15,14,53,75]#6260\n",
    "l = [198,241,115,10,100]#8080\n",
    "i=255\n",
    "# plt.subplot(221)\n",
    "# plt.imshow(mask[i].reshape(config.HEIGHT,config.WIDTH))\n",
    "ax2 = plt.subplot(132)\n",
    "plt.title(\"partial observation\")\n",
    "im = plt.imshow(obs[i].reshape(config.HEIGHT,config.WIDTH))\n",
    "# plt.yticks([])\n",
    "# plt.xticks([])\n",
    "ax3 = plt.subplot(133)\n",
    "plt.title(\"prediction\")\n",
    "plt.imshow((utils.logits_to_probs(logits[i])).reshape(config.HEIGHT,config.WIDTH))\n",
    "# plt.yticks([])\n",
    "# plt.xticks([])\n",
    "ax1 = plt.subplot(131)\n",
    "plt.title(\"full building\")\n",
    "plt.imshow(labels[i].reshape(config.HEIGHT,config.WIDTH))\n",
    "# plt.yticks([])\n",
    "# plt.xticks([])\n",
    "#plt.colorbar(im, ax=[ax1, ax2, ax3])\n",
    "#plt.tight_layout()\n",
    "#plt.savefig(r\"C:\\Users\\zwecher\\Documents\\mygit\\new_predictor\\tmp.jpg\")"
   ]
  },
  {
   "cell_type": "code",
   "execution_count": null,
   "metadata": {},
   "outputs": [],
   "source": [
    "from tensorflow.keras.utils import plot_model\n",
    "plot_model(model, to_file='model.png')"
   ]
  },
  {
   "cell_type": "code",
   "execution_count": null,
   "metadata": {},
   "outputs": [],
   "source": [
    "pd.Series(mask.mean(axis = 1)).sort_values(ascending = False)"
   ]
  },
  {
   "cell_type": "code",
   "execution_count": null,
   "metadata": {},
   "outputs": [],
   "source": [
    "mask.shape"
   ]
  },
  {
   "cell_type": "code",
   "execution_count": null,
   "metadata": {},
   "outputs": [],
   "source": [
    "%matplotlib notebook\n",
    "plt.hist(logits.flatten(),bins=100)"
   ]
  },
  {
   "cell_type": "code",
   "execution_count": null,
   "metadata": {},
   "outputs": [],
   "source": [
    "i=80\n",
    "%matplotlib notebook\n",
    "plt.subplot(121)\n",
    "plt.imshow(obs[i].reshape(92,90))\n",
    "for k in range(1):\n",
    "    plt.subplot(122)\n",
    "    plt.imshow(convs[k][i,:,:,0].squeeze())\n",
    "# plt.subplot(222)\n",
    "# plt.imshow(obs[i].reshape(92,90))\n",
    "# plt.subplot(223)\n",
    "# plt.imshow(utils.logits_to_probs(logits[i]).reshape(92,90))\n",
    "# plt.subplot(224)\n",
    "# plt.imshow(labels[i].reshape(92,90))"
   ]
  },
  {
   "cell_type": "code",
   "execution_count": null,
   "metadata": {},
   "outputs": [],
   "source": [
    "%matplotlib notebook\n",
    "plt.imshow(x_test[0][0].squeeze())"
   ]
  },
  {
   "cell_type": "code",
   "execution_count": null,
   "metadata": {},
   "outputs": [],
   "source": [
    "pd.Series(y_test[0].flatten()).value_counts()"
   ]
  },
  {
   "cell_type": "code",
   "execution_count": null,
   "metadata": {},
   "outputs": [],
   "source": [
    "#func = utils.get_inermediate_layers_func(model,[\"flatten\"])\n",
    "for i in range(20):\n",
    "    x,y=  bm.get_next_train_batch(256)\n",
    "   \n",
    "    model.train_on_batch(x,y)\n",
    "    if i%1 == 0:\n",
    "        loss = model.evaluate(x_test,y_test)\n",
    "        print(loss)"
   ]
  },
  {
   "cell_type": "code",
   "execution_count": null,
   "metadata": {},
   "outputs": [],
   "source": []
  },
  {
   "cell_type": "code",
   "execution_count": null,
   "metadata": {},
   "outputs": [],
   "source": [
    "%matplotlib notebook\n",
    "func= utils.get_inermediate_layers_func(model, [\"obs\",\"last_conv\",\"logits\",\"loss_for_logits\",\"lab\",\"mask\",\"masked_loss\"])\n",
    "obs,last_conv, logits,loss_for_logits,labels,mask,masked_loss= func((x_test,y_test))\n",
    "# for i in range(7):\n",
    "#     convs.append(\"conv_{}\".format(i))\n",
    "# func= utils.get_inermediate_layers_func(model, convs)    \n",
    "# convs = func((x_test,y_test))\n",
    "# #plt.hist(q[0].flatten(),bins=1000)\n"
   ]
  },
  {
   "cell_type": "code",
   "execution_count": null,
   "metadata": {},
   "outputs": [],
   "source": [
    "i=72\n",
    "%matplotlib notebook\n",
    "plt.subplot(131)\n",
    "plt.imshow(obs[i].squeeze())\n",
    "plt.subplot(132)\n",
    "plt.imshow(last_conv[i].squeeze())\n",
    "plt.subplot(133)\n",
    "plt.imshow(labels[i].reshape((82,80)))\n",
    "\n"
   ]
  },
  {
   "cell_type": "code",
   "execution_count": null,
   "metadata": {},
   "outputs": [],
   "source": [
    "pd.Series(mask.flatten()).value_counts()"
   ]
  },
  {
   "cell_type": "code",
   "execution_count": null,
   "metadata": {},
   "outputs": [],
   "source": [
    "mask.shape"
   ]
  },
  {
   "cell_type": "code",
   "execution_count": null,
   "metadata": {},
   "outputs": [],
   "source": [
    "%matplotlib notebook\n",
    "pd.Series(labels[0]).value_counts()"
   ]
  },
  {
   "cell_type": "code",
   "execution_count": null,
   "metadata": {},
   "outputs": [],
   "source": [
    "(y_test[0]==0).sum()"
   ]
  },
  {
   "cell_type": "code",
   "execution_count": null,
   "metadata": {},
   "outputs": [],
   "source": [
    "model.get_losses_for([x_test])"
   ]
  },
  {
   "cell_type": "code",
   "execution_count": null,
   "metadata": {},
   "outputs": [],
   "source": [
    "convs[0].shape"
   ]
  },
  {
   "cell_type": "code",
   "execution_count": null,
   "metadata": {},
   "outputs": [],
   "source": [
    "%matplotlib notebook\n",
    "plt.hist(logits[100].flatten(),bins=100)"
   ]
  },
  {
   "cell_type": "code",
   "execution_count": null,
   "metadata": {},
   "outputs": [],
   "source": [
    "bp.train_model(model,1)"
   ]
  },
  {
   "cell_type": "code",
   "execution_count": null,
   "metadata": {},
   "outputs": [],
   "source": [
    "#bp.train_model(model,3)\n",
    "model.save_weights(r\"C:\\Users\\zwecher\\Documents\\mygit\\new_predictor\\models\\models_6260\\model_tmp.hdf5\")"
   ]
  },
  {
   "cell_type": "code",
   "execution_count": null,
   "metadata": {},
   "outputs": [],
   "source": [
    "q = tf.keras.models.load_model(r\"C:\\Users\\zwecher\\Documents\\mygit\\new_predictor\\models\\models_6260\\model_tmp.hdf5\",compile=False)\n"
   ]
  },
  {
   "cell_type": "code",
   "execution_count": null,
   "metadata": {},
   "outputs": [],
   "source": [
    "q = tf.keras.models.load_model(r\"C:\\Users\\zwecher\\Documents\\mygit\\new_predictor\\models\\models_6260\\model-01-0.3287.hdf5\",compile=False)\n",
    "ao = tf.keras.optimizers.Adam(learning_rate=0.001)\n",
    "loss = fmp.loss\n",
    "q.compile(optimizer=ao, loss=loss)\n",
    "#func = utils.get_inermediate_layers_func(q,[\"dense\"])"
   ]
  },
  {
   "cell_type": "code",
   "execution_count": null,
   "metadata": {},
   "outputs": [],
   "source": [
    "func = utils.get_inermediate_layers_func(model,[\"dense\"])\n",
    "v=func(x)"
   ]
  },
  {
   "cell_type": "code",
   "execution_count": null,
   "metadata": {},
   "outputs": [],
   "source": [
    "v[0].shape"
   ]
  },
  {
   "cell_type": "code",
   "execution_count": null,
   "metadata": {},
   "outputs": [],
   "source": [
    "f=model.get_layer(\"bn\")"
   ]
  },
  {
   "cell_type": "code",
   "execution_count": null,
   "metadata": {},
   "outputs": [],
   "source": [
    "f.get_weights()"
   ]
  },
  {
   "cell_type": "code",
   "execution_count": null,
   "metadata": {},
   "outputs": [],
   "source": [
    "func = utils.get_inermediate_layers_func(model,[\"flatten\"])\n",
    "v=func(x_test)"
   ]
  },
  {
   "cell_type": "code",
   "execution_count": null,
   "metadata": {},
   "outputs": [],
   "source": [
    "%matplotlib notebook\n",
    "i=80\n",
    "plt.subplot(131)\n",
    "plt.imshow(utils.logits_to_probs(v[0][i]).reshape(62,60))\n",
    "plt.subplot(132)\n",
    "plt.imshow(x_test[i].squeeze())\n",
    "plt.subplot(133)\n",
    "plt.imshow(y_test[i].reshape(62,60))\n"
   ]
  },
  {
   "cell_type": "code",
   "execution_count": null,
   "metadata": {},
   "outputs": [],
   "source": [
    "%matplotlib notebook\n",
    "plt.hist(v[0].flatten(),bins=1000)"
   ]
  },
  {
   "cell_type": "code",
   "execution_count": null,
   "metadata": {},
   "outputs": [],
   "source": [
    "3+4"
   ]
  },
  {
   "cell_type": "code",
   "execution_count": null,
   "metadata": {},
   "outputs": [],
   "source": [
    "q.compile()"
   ]
  },
  {
   "cell_type": "code",
   "execution_count": null,
   "metadata": {},
   "outputs": [],
   "source": [
    "model.get_config()"
   ]
  },
  {
   "cell_type": "code",
   "execution_count": null,
   "metadata": {},
   "outputs": [],
   "source": [
    "(v[0]<0).mean()"
   ]
  },
  {
   "cell_type": "code",
   "execution_count": null,
   "metadata": {},
   "outputs": [],
   "source": [
    "%matplotlib tk\n",
    "plt.hist(v[0][0].flatten())"
   ]
  },
  {
   "cell_type": "code",
   "execution_count": null,
   "metadata": {},
   "outputs": [],
   "source": [
    "from datetime import datetime\n"
   ]
  },
  {
   "cell_type": "code",
   "execution_count": null,
   "metadata": {},
   "outputs": [],
   "source": [
    "datetime.now()-datetime(2017,2,6)"
   ]
  },
  {
   "cell_type": "code",
   "execution_count": null,
   "metadata": {},
   "outputs": [],
   "source": [
    "q = np.random.randn(5,6,7)\n",
    "l = tf.keras.layers.Conv2D(q,kernel_size=10,kernel_initializer=\"ones\")"
   ]
  },
  {
   "cell_type": "code",
   "execution_count": null,
   "metadata": {},
   "outputs": [],
   "source": [
    "l."
   ]
  },
  {
   "cell_type": "code",
   "execution_count": null,
   "metadata": {},
   "outputs": [],
   "source": [
    "import cv2"
   ]
  },
  {
   "cell_type": "code",
   "execution_count": null,
   "metadata": {},
   "outputs": [],
   "source": [
    "%matplotlib notebook\n",
    "im = labels[0].reshape(62,60)\n",
    "plt.imshow(cv2.resize(im,(21,20)))"
   ]
  },
  {
   "cell_type": "code",
   "execution_count": null,
   "metadata": {},
   "outputs": [],
   "source": [
    "pd.Series(cv2.resize(im,(30,30)).flatten()).value_counts()"
   ]
  },
  {
   "cell_type": "code",
   "execution_count": null,
   "metadata": {},
   "outputs": [],
   "source": [
    "config = model.get_config()\n",
    "reinitialized_model = keras.Model.from_config(config)"
   ]
  },
  {
   "cell_type": "code",
   "execution_count": null,
   "metadata": {},
   "outputs": [],
   "source": [
    "1.02**20\n"
   ]
  },
  {
   "cell_type": "code",
   "execution_count": null,
   "metadata": {},
   "outputs": [],
   "source": [
    "import pydot\n",
    "import graphviz"
   ]
  },
  {
   "cell_type": "code",
   "execution_count": null,
   "metadata": {},
   "outputs": [],
   "source": [
    "import pydot"
   ]
  },
  {
   "cell_type": "code",
   "execution_count": null,
   "metadata": {},
   "outputs": [],
   "source": [
    "pydot.p"
   ]
  }
 ],
 "metadata": {
  "kernelspec": {
   "display_name": "Python [conda env:keras]",
   "language": "python",
   "name": "conda-env-keras-py"
  },
  "language_info": {
   "codemirror_mode": {
    "name": "ipython",
    "version": 3
   },
   "file_extension": ".py",
   "mimetype": "text/x-python",
   "name": "python",
   "nbconvert_exporter": "python",
   "pygments_lexer": "ipython3",
   "version": "3.6.9"
  }
 },
 "nbformat": 4,
 "nbformat_minor": 2
}
