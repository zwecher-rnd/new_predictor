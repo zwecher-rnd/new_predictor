{
 "cells": [
  {
   "cell_type": "code",
   "execution_count": 1,
   "metadata": {},
   "outputs": [
    {
     "name": "stderr",
     "output_type": "stream",
     "text": [
      "C:\\Users\\zwecher\\AppData\\Local\\Continuum\\anaconda3\\envs\\keras\\lib\\site-packages\\tensorflow\\python\\framework\\dtypes.py:516: FutureWarning: Passing (type, 1) or '1type' as a synonym of type is deprecated; in a future version of numpy, it will be understood as (type, (1,)) / '(1,)type'.\n",
      "  _np_qint8 = np.dtype([(\"qint8\", np.int8, 1)])\n",
      "C:\\Users\\zwecher\\AppData\\Local\\Continuum\\anaconda3\\envs\\keras\\lib\\site-packages\\tensorflow\\python\\framework\\dtypes.py:517: FutureWarning: Passing (type, 1) or '1type' as a synonym of type is deprecated; in a future version of numpy, it will be understood as (type, (1,)) / '(1,)type'.\n",
      "  _np_quint8 = np.dtype([(\"quint8\", np.uint8, 1)])\n",
      "C:\\Users\\zwecher\\AppData\\Local\\Continuum\\anaconda3\\envs\\keras\\lib\\site-packages\\tensorflow\\python\\framework\\dtypes.py:518: FutureWarning: Passing (type, 1) or '1type' as a synonym of type is deprecated; in a future version of numpy, it will be understood as (type, (1,)) / '(1,)type'.\n",
      "  _np_qint16 = np.dtype([(\"qint16\", np.int16, 1)])\n",
      "C:\\Users\\zwecher\\AppData\\Local\\Continuum\\anaconda3\\envs\\keras\\lib\\site-packages\\tensorflow\\python\\framework\\dtypes.py:519: FutureWarning: Passing (type, 1) or '1type' as a synonym of type is deprecated; in a future version of numpy, it will be understood as (type, (1,)) / '(1,)type'.\n",
      "  _np_quint16 = np.dtype([(\"quint16\", np.uint16, 1)])\n",
      "C:\\Users\\zwecher\\AppData\\Local\\Continuum\\anaconda3\\envs\\keras\\lib\\site-packages\\tensorflow\\python\\framework\\dtypes.py:520: FutureWarning: Passing (type, 1) or '1type' as a synonym of type is deprecated; in a future version of numpy, it will be understood as (type, (1,)) / '(1,)type'.\n",
      "  _np_qint32 = np.dtype([(\"qint32\", np.int32, 1)])\n",
      "C:\\Users\\zwecher\\AppData\\Local\\Continuum\\anaconda3\\envs\\keras\\lib\\site-packages\\tensorflow\\python\\framework\\dtypes.py:525: FutureWarning: Passing (type, 1) or '1type' as a synonym of type is deprecated; in a future version of numpy, it will be understood as (type, (1,)) / '(1,)type'.\n",
      "  np_resource = np.dtype([(\"resource\", np.ubyte, 1)])\n",
      "C:\\Users\\zwecher\\AppData\\Local\\Continuum\\anaconda3\\envs\\keras\\lib\\site-packages\\tensorboard\\compat\\tensorflow_stub\\dtypes.py:541: FutureWarning: Passing (type, 1) or '1type' as a synonym of type is deprecated; in a future version of numpy, it will be understood as (type, (1,)) / '(1,)type'.\n",
      "  _np_qint8 = np.dtype([(\"qint8\", np.int8, 1)])\n",
      "C:\\Users\\zwecher\\AppData\\Local\\Continuum\\anaconda3\\envs\\keras\\lib\\site-packages\\tensorboard\\compat\\tensorflow_stub\\dtypes.py:542: FutureWarning: Passing (type, 1) or '1type' as a synonym of type is deprecated; in a future version of numpy, it will be understood as (type, (1,)) / '(1,)type'.\n",
      "  _np_quint8 = np.dtype([(\"quint8\", np.uint8, 1)])\n",
      "C:\\Users\\zwecher\\AppData\\Local\\Continuum\\anaconda3\\envs\\keras\\lib\\site-packages\\tensorboard\\compat\\tensorflow_stub\\dtypes.py:543: FutureWarning: Passing (type, 1) or '1type' as a synonym of type is deprecated; in a future version of numpy, it will be understood as (type, (1,)) / '(1,)type'.\n",
      "  _np_qint16 = np.dtype([(\"qint16\", np.int16, 1)])\n",
      "C:\\Users\\zwecher\\AppData\\Local\\Continuum\\anaconda3\\envs\\keras\\lib\\site-packages\\tensorboard\\compat\\tensorflow_stub\\dtypes.py:544: FutureWarning: Passing (type, 1) or '1type' as a synonym of type is deprecated; in a future version of numpy, it will be understood as (type, (1,)) / '(1,)type'.\n",
      "  _np_quint16 = np.dtype([(\"quint16\", np.uint16, 1)])\n",
      "C:\\Users\\zwecher\\AppData\\Local\\Continuum\\anaconda3\\envs\\keras\\lib\\site-packages\\tensorboard\\compat\\tensorflow_stub\\dtypes.py:545: FutureWarning: Passing (type, 1) or '1type' as a synonym of type is deprecated; in a future version of numpy, it will be understood as (type, (1,)) / '(1,)type'.\n",
      "  _np_qint32 = np.dtype([(\"qint32\", np.int32, 1)])\n",
      "C:\\Users\\zwecher\\AppData\\Local\\Continuum\\anaconda3\\envs\\keras\\lib\\site-packages\\tensorboard\\compat\\tensorflow_stub\\dtypes.py:550: FutureWarning: Passing (type, 1) or '1type' as a synonym of type is deprecated; in a future version of numpy, it will be understood as (type, (1,)) / '(1,)type'.\n",
      "  np_resource = np.dtype([(\"resource\", np.ubyte, 1)])\n"
     ]
    },
    {
     "name": "stdout",
     "output_type": "stream",
     "text": [
      "\n",
      "2019-11-18 12:29:02,372 [INFO: __init__.py 20] path: ..\\logs\n"
     ]
    }
   ],
   "source": [
    "%load_ext autoreload\n",
    "%autoreload 2\n",
    "\n",
    "root = r\"C:\\Users\\zwecher\\Documents\\mygit\\new_predictor\"\n",
    "#predictor_path  = r\"C:\\Users\\zwecher\\Documents\\mygit\\Indoors_Capabilities\\predictor\"\n",
    "#model_path = r\"C:\\Users\\zwecher\\Documents\\mygit\\Indoors_Capabilities\\models\"\n",
    "\n",
    "from importlib import reload  # Not needed in Python 2\n",
    "import logging\n",
    "reload(logging)\n",
    "import numpy as np\n",
    "import pandas as pd\n",
    "import matplotlib.pyplot as plt\n",
    "import tensorflow as tf\n",
    "from tensorflow.keras.models import Sequential\n",
    "from tensorflow.keras import models\n",
    "from tensorflow.keras import backend as K \n",
    "\n",
    "from tensorflow import keras\n",
    "import sys, os\n",
    "sys.path.insert(0,root)\n",
    "#from predictor import predictor, config, restore\n",
    "import utils\n",
    "from predictor import buildings_predictor as bp\n",
    "from predictor import batch_manager\n",
    "#from predictor import full_model_predictor as fmp\n",
    "utils.set_log()\n",
    "os.chdir(r\"C:\\Users\\zwecher\\Documents\\mygit\\new_predictor\\predictor\")"
   ]
  },
  {
   "cell_type": "code",
   "execution_count": 2,
   "metadata": {},
   "outputs": [
    {
     "name": "stdout",
     "output_type": "stream",
     "text": [
      "\n",
      "2019-11-18 12:29:12,300 [INFO: buildings_predictor.py 14] Tensor(\"dense_target:0\", shape=(None, None), dtype=float32)\n",
      "WARNING:tensorflow:From C:\\Users\\zwecher\\AppData\\Local\\Continuum\\anaconda3\\envs\\keras\\lib\\site-packages\\tensorflow\\python\\ops\\nn_impl.py:182: add_dispatch_support.<locals>.wrapper (from tensorflow.python.ops.array_ops) is deprecated and will be removed in a future version.\n",
      "Instructions for updating:\n",
      "Use tf.where in 2.0, which has the same broadcast rule as np.where\n",
      "\n",
      "2019-11-18 12:29:12,300 [WARNING: deprecation.py 323] From C:\\Users\\zwecher\\AppData\\Local\\Continuum\\anaconda3\\envs\\keras\\lib\\site-packages\\tensorflow\\python\\ops\\nn_impl.py:182: add_dispatch_support.<locals>.wrapper (from tensorflow.python.ops.array_ops) is deprecated and will be removed in a future version.\n",
      "Instructions for updating:\n",
      "Use tf.where in 2.0, which has the same broadcast rule as np.where\n",
      "Model: \"sequential\"\n",
      "_________________________________________________________________\n",
      "Layer (type)                 Output Shape              Param #   \n",
      "=================================================================\n",
      "my_input (Conv2D)            (None, 56, 54, 7)         350       \n",
      "_________________________________________________________________\n",
      "max_pooling2d (MaxPooling2D) (None, 27, 26, 7)         0         \n",
      "_________________________________________________________________\n",
      "conv2d (Conv2D)              (None, 21, 20, 7)         2408      \n",
      "_________________________________________________________________\n",
      "flatten (Flatten)            (None, 2940)              0         \n",
      "_________________________________________________________________\n",
      "dense (Dense)                (None, 3720)              10940520  \n",
      "=================================================================\n",
      "Total params: 10,943,278\n",
      "Trainable params: 10,943,278\n",
      "Non-trainable params: 0\n",
      "_________________________________________________________________\n"
     ]
    }
   ],
   "source": [
    "#K.clear_session()\n",
    "model = bp.get_model()"
   ]
  },
  {
   "cell_type": "code",
   "execution_count": 3,
   "metadata": {},
   "outputs": [
    {
     "data": {
      "text/plain": [
       "{'name': 'sequential',\n",
       " 'layers': [{'class_name': 'Conv2D',\n",
       "   'config': {'name': 'my_input',\n",
       "    'trainable': True,\n",
       "    'batch_input_shape': (None, 62, 60, 1),\n",
       "    'dtype': 'float32',\n",
       "    'filters': 7,\n",
       "    'kernel_size': (7, 7),\n",
       "    'strides': (1, 1),\n",
       "    'padding': 'valid',\n",
       "    'data_format': 'channels_last',\n",
       "    'dilation_rate': (1, 1),\n",
       "    'activation': 'relu',\n",
       "    'use_bias': True,\n",
       "    'kernel_initializer': {'class_name': 'GlorotUniform',\n",
       "     'config': {'seed': None}},\n",
       "    'bias_initializer': {'class_name': 'Zeros', 'config': {}},\n",
       "    'kernel_regularizer': None,\n",
       "    'bias_regularizer': None,\n",
       "    'activity_regularizer': None,\n",
       "    'kernel_constraint': None,\n",
       "    'bias_constraint': None}},\n",
       "  {'class_name': 'MaxPooling2D',\n",
       "   'config': {'name': 'max_pooling2d',\n",
       "    'trainable': True,\n",
       "    'dtype': 'float32',\n",
       "    'pool_size': (4, 4),\n",
       "    'padding': 'valid',\n",
       "    'strides': (2, 2),\n",
       "    'data_format': 'channels_last'}},\n",
       "  {'class_name': 'Conv2D',\n",
       "   'config': {'name': 'conv2d',\n",
       "    'trainable': True,\n",
       "    'dtype': 'float32',\n",
       "    'filters': 7,\n",
       "    'kernel_size': (7, 7),\n",
       "    'strides': (1, 1),\n",
       "    'padding': 'valid',\n",
       "    'data_format': 'channels_last',\n",
       "    'dilation_rate': (1, 1),\n",
       "    'activation': 'relu',\n",
       "    'use_bias': True,\n",
       "    'kernel_initializer': {'class_name': 'GlorotUniform',\n",
       "     'config': {'seed': None}},\n",
       "    'bias_initializer': {'class_name': 'Zeros', 'config': {}},\n",
       "    'kernel_regularizer': None,\n",
       "    'bias_regularizer': None,\n",
       "    'activity_regularizer': None,\n",
       "    'kernel_constraint': None,\n",
       "    'bias_constraint': None}},\n",
       "  {'class_name': 'Flatten',\n",
       "   'config': {'name': 'flatten',\n",
       "    'trainable': True,\n",
       "    'dtype': 'float32',\n",
       "    'data_format': 'channels_last'}},\n",
       "  {'class_name': 'Dense',\n",
       "   'config': {'name': 'dense',\n",
       "    'trainable': True,\n",
       "    'dtype': 'float32',\n",
       "    'units': 3720,\n",
       "    'activation': 'linear',\n",
       "    'use_bias': True,\n",
       "    'kernel_initializer': {'class_name': 'GlorotUniform',\n",
       "     'config': {'seed': None}},\n",
       "    'bias_initializer': {'class_name': 'Zeros', 'config': {}},\n",
       "    'kernel_regularizer': None,\n",
       "    'bias_regularizer': None,\n",
       "    'activity_regularizer': None,\n",
       "    'kernel_constraint': None,\n",
       "    'bias_constraint': None}}]}"
      ]
     },
     "execution_count": 3,
     "metadata": {},
     "output_type": "execute_result"
    }
   ],
   "source": [
    "model.get_config()"
   ]
  },
  {
   "cell_type": "code",
   "execution_count": 6,
   "metadata": {},
   "outputs": [
    {
     "name": "stdout",
     "output_type": "stream",
     "text": [
      "256/256 [==============================] - 0s 206us/sample - loss: 0.2384\n",
      "0.23839751072227955\n",
      "[array([[6.608182 , 6.6220417, 6.622451 , ..., 6.616274 , 6.6516986,\n",
      "        6.6447616],\n",
      "       [6.558717 , 6.6185427, 6.5700436, ..., 6.5830817, 6.5723557,\n",
      "        6.590183 ],\n",
      "       [6.387796 , 6.410137 , 6.406206 , ..., 6.366886 , 6.4334664,\n",
      "        6.423634 ],\n",
      "       ...,\n",
      "       [6.7651696, 6.8632812, 6.826542 , ..., 6.828661 , 6.919186 ,\n",
      "        6.858289 ],\n",
      "       [6.6097836, 6.6638145, 6.681063 , ..., 6.65318  , 6.6505356,\n",
      "        6.679927 ],\n",
      "       [6.4513783, 6.522175 , 6.5323787, ..., 6.550554 , 6.4975514,\n",
      "        6.5658617]], dtype=float32)]\n",
      "256/256 [==============================] - 0s 199us/sample - loss: 0.2382\n",
      "0.23816325515508652\n",
      "[array([[6.86973  , 6.955236 , 6.9578056, ..., 6.9814634, 6.9069333,\n",
      "        6.9452996],\n",
      "       [6.8050413, 6.917578 , 6.9783287, ..., 6.8651085, 6.8862963,\n",
      "        6.906159 ],\n",
      "       [6.9975023, 7.0374537, 7.0467424, ..., 6.9983993, 7.06461  ,\n",
      "        7.0683374],\n",
      "       ...,\n",
      "       [6.5674458, 6.54771  , 6.625174 , ..., 6.5392504, 6.5310483,\n",
      "        6.5275483],\n",
      "       [7.3635697, 7.5556836, 7.4784174, ..., 7.4414177, 7.505325 ,\n",
      "        7.5433183],\n",
      "       [7.1193585, 7.189063 , 7.099433 , ..., 7.0713053, 7.1866007,\n",
      "        7.2417083]], dtype=float32)]\n",
      "256/256 [==============================] - 0s 179us/sample - loss: 0.2384\n",
      "0.23839688673615456\n",
      "[array([[6.3261986, 6.3523855, 6.363773 , ..., 6.3320427, 6.35317  ,\n",
      "        6.35269  ],\n",
      "       [6.4260798, 6.436421 , 6.4365587, ..., 6.428495 , 6.4565325,\n",
      "        6.456083 ],\n",
      "       [6.4283013, 6.4365687, 6.442821 , ..., 6.3993187, 6.4476953,\n",
      "        6.4295073],\n",
      "       ...,\n",
      "       [7.085644 , 7.1921043, 7.0837464, ..., 7.091531 , 7.203062 ,\n",
      "        7.160757 ],\n",
      "       [6.733724 , 6.880656 , 6.796797 , ..., 6.7736697, 6.840717 ,\n",
      "        6.8452816],\n",
      "       [6.6741304, 6.6521425, 6.6859303, ..., 6.6997905, 6.6639795,\n",
      "        6.687483 ]], dtype=float32)]\n",
      "256/256 [==============================] - 0s 223us/sample - loss: 0.2417\n",
      "0.2416563369333744\n",
      "[array([[6.494546 , 6.529037 , 6.544332 , ..., 6.516611 , 6.495909 ,\n",
      "        6.542896 ],\n",
      "       [6.7588615, 6.8239713, 6.826009 , ..., 6.801653 , 6.8333845,\n",
      "        6.8260317],\n",
      "       [7.030681 , 7.104723 , 7.1299353, ..., 7.0481424, 7.0219607,\n",
      "        7.121198 ],\n",
      "       ...,\n",
      "       [7.109989 , 7.180119 , 7.0856957, ..., 7.162728 , 7.114481 ,\n",
      "        7.157238 ],\n",
      "       [6.493213 , 6.5704517, 6.564999 , ..., 6.505655 , 6.5386024,\n",
      "        6.545766 ],\n",
      "       [6.433495 , 6.4995832, 6.4613442, ..., 6.45654  , 6.501524 ,\n",
      "        6.470908 ]], dtype=float32)]\n",
      "256/256 [==============================] - 0s 150us/sample - loss: 0.2381\n",
      "0.2381327673792839\n",
      "[array([[7.2754717, 7.3096747, 7.3400264, ..., 7.298668 , 7.321577 ,\n",
      "        7.3820753],\n",
      "       [7.1181884, 7.1220255, 7.1340427, ..., 7.1402206, 7.1750965,\n",
      "        7.200228 ],\n",
      "       [7.0704064, 7.223886 , 7.1719656, ..., 7.096213 , 7.1362557,\n",
      "        7.2002716],\n",
      "       ...,\n",
      "       [6.905991 , 6.9730554, 6.970816 , ..., 6.966415 , 6.9051065,\n",
      "        6.913934 ],\n",
      "       [6.798864 , 6.8808675, 6.8583446, ..., 6.7713118, 6.8087173,\n",
      "        6.9115415],\n",
      "       [6.9119473, 7.00182  , 6.933806 , ..., 6.93277  , 7.0570893,\n",
      "        6.9763207]], dtype=float32)]\n"
     ]
    }
   ],
   "source": [
    "metadata_df = batch_manager.create_metadata_df()\n",
    "bm = batch_manager.BatchManager(metadata_df,test_num=256)\n",
    "x_t,y = bm.get_test_batch()\n",
    "func = utils.get_inermediate_layers_func(model,[\"dense\"])\n",
    "for i in range(5):\n",
    "    x,y = bm.get_next_train_batch(256)\n",
    "    model.train_on_batch(x, y)\n",
    "    if i%1 == 0:\n",
    "        loss = model.evaluate(x,y)\n",
    "        print(loss)\n",
    "        print(func(x))"
   ]
  },
  {
   "cell_type": "code",
   "execution_count": null,
   "metadata": {},
   "outputs": [
    {
     "name": "stdout",
     "output_type": "stream",
     "text": [
      "Epoch 1/3\n",
      "880/976 [==========================>...] - ETA: 4:44 - loss: 0.2087"
     ]
    }
   ],
   "source": [
    "bp.train_model(model,3)"
   ]
  },
  {
   "cell_type": "code",
   "execution_count": null,
   "metadata": {},
   "outputs": [],
   "source": []
  }
 ],
 "metadata": {
  "kernelspec": {
   "display_name": "Python [conda env:keras]",
   "language": "python",
   "name": "conda-env-keras-py"
  },
  "language_info": {
   "codemirror_mode": {
    "name": "ipython",
    "version": 3
   },
   "file_extension": ".py",
   "mimetype": "text/x-python",
   "name": "python",
   "nbconvert_exporter": "python",
   "pygments_lexer": "ipython3",
   "version": "3.6.9"
  }
 },
 "nbformat": 4,
 "nbformat_minor": 2
}
